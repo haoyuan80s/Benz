{
 "cells": [
  {
   "cell_type": "code",
   "execution_count": 15,
   "metadata": {
    "collapsed": true
   },
   "outputs": [],
   "source": [
    "import numpy as np\n",
    "import pandas as pd\n",
    "from sklearn import preprocessing \n",
    "from sklearn.metrics import r2_score\n",
    "from sklearn.model_selection import GridSearchCV\n",
    "import functional\n",
    "from  data_fun.models.xgb import XGB\n",
    "import data_fun.functional as F\n",
    "#reload(utils)"
   ]
  },
  {
   "cell_type": "code",
   "execution_count": 11,
   "metadata": {},
   "outputs": [
    {
     "name": "stdout",
     "output_type": "stream",
     "text": [
      "loading data....\n",
      "feature engereering....\n"
     ]
    }
   ],
   "source": [
    "print(\"loading data....\")\n",
    "train, test  = (pd.read_csv('data_fun/data/train.csv'),\n",
    "                pd.read_csv('data_fun/data/test.csv'))   \n",
    "id_test = test.ID\n",
    "def feature_engineering():\n",
    "    print(\"feature engereering....\") # drop time, since test is all \"future\"\n",
    "    y_train, x_train, x_test = (train[\"y\"],\n",
    "                                train.drop([\"y\"], axis=1),\n",
    "                                test)\n",
    "    for c in x_train.columns:\n",
    "        if x_train[c].dtype == 'object':\n",
    "            lbl = preprocessing.LabelEncoder()\n",
    "            lbl.fit(list(x_train[c].values)) \n",
    "            x_train[c] = lbl.transform(list(x_train[c].values))        \n",
    "    for c in x_test.columns:\n",
    "        if x_test[c].dtype == 'object':\n",
    "            lbl = preprocessing.LabelEncoder()\n",
    "            lbl.fit(list(x_test[c].values)) \n",
    "            x_test[c] = lbl.transform(list(x_test[c].values))\n",
    "    return  np.array(x_train), np.array(y_train), np.array(x_test) # X,y for training\n",
    "\n",
    "X,y,test = feature_engineering()"
   ]
  },
  {
   "cell_type": "code",
   "execution_count": 12,
   "metadata": {},
   "outputs": [
    {
     "name": "stdout",
     "output_type": "stream",
     "text": [
      "training XGB model......\n",
      "training score = 0.5224078068598061\n"
     ]
    }
   ],
   "source": [
    "params = {\n",
    "    'eta': 0.02,\n",
    "    'max_depth': 5,\n",
    "    'subsample': 0.7,\n",
    "    'colsample_bytree': 0.7,\n",
    "    'objective': 'reg:linear',\n",
    "    'eval_metric': 'rmse',\n",
    "    'silent': 1}\n",
    "xgb = XGB()\n",
    "xgb.train(X,y, params, num_boost_round=500)\n",
    "print(\"training score = {}\".format(r2_score(xgb.predict(X),y)))"
   ]
  },
  {
   "cell_type": "code",
   "execution_count": 1,
   "metadata": {},
   "outputs": [
    {
     "name": "stderr",
     "output_type": "stream",
     "text": [
      "/usr/local/lib/python3.6/site-packages/sklearn/cross_validation.py:44: DeprecationWarning: This module was deprecated in version 0.18 in favor of the model_selection module into which all the refactored classes and functions are moved. Also note that the interface of the new CV iterators are different from that of this module. This module will be removed in 0.20.\n",
      "  \"This module will be removed in 0.20.\", DeprecationWarning)\n"
     ]
    }
   ],
   "source": [
    "from sklearn.cross_validation import KFold\n"
   ]
  }
 ],
 "metadata": {
  "kernelspec": {
   "display_name": "Python 2",
   "language": "python",
   "name": "python2"
  },
  "language_info": {
   "codemirror_mode": {
    "name": "ipython",
    "version": 3
   },
   "file_extension": ".py",
   "mimetype": "text/x-python",
   "name": "python",
   "nbconvert_exporter": "python",
   "pygments_lexer": "ipython3",
   "version": "3.6.1"
  }
 },
 "nbformat": 4,
 "nbformat_minor": 2
}
