{
 "cells": [
  {
   "cell_type": "code",
   "execution_count": 2,
   "metadata": {},
   "outputs": [
    {
     "name": "stderr",
     "output_type": "stream",
     "text": [
      "/usr/local/lib/python3.6/site-packages/sklearn/cross_validation.py:44: DeprecationWarning: This module was deprecated in version 0.18 in favor of the model_selection module into which all the refactored classes and functions are moved. Also note that the interface of the new CV iterators are different from that of this module. This module will be removed in 0.20.\n",
      "  \"This module will be removed in 0.20.\", DeprecationWarning)\n"
     ]
    }
   ],
   "source": [
    "import numpy as np\n",
    "import pandas as pd\n",
    "import xgboost as xgb\n",
    "import pickle\n",
    "from scipy.stats import randint as sp_randint\n",
    "from sklearn.preprocessing import LabelEncoder, OneHotEncoder\n",
    "from sklearn.cross_validation import KFold\n",
    "from sklearn.metrics import mean_squared_error, r2_score\n",
    "from sklearn.model_selection import cross_val_score, GridSearchCV, RandomizedSearchCV\n",
    "from sklearn.ensemble import ExtraTreesRegressor, RandomForestRegressor\n",
    "\n"
   ]
  },
  {
   "cell_type": "code",
   "execution_count": 4,
   "metadata": {},
   "outputs": [],
   "source": [
    "xgb_data = pickle.load(open('xgb.p','rb'), encoding='latin1')\n",
    "et_data = pickle.load(open('et.p','rb'), encoding='latin1')\n",
    "rf_data = pickle.load(open('rf.p','rb'), encoding='latin1')\n",
    "\n",
    "L = 1\n",
    "N = 3\n",
    "X = np.zeros([2525, L*N])\n",
    "id_col = (i for i in range(L*N))\n",
    "for dt in sorted(et_data, key =  lambda x: x[1])[:L]:\n",
    "    X[:,next(id_col)] = np.squeeze(dt[2])\n",
    "for dt in sorted(rf_data, key =  lambda x: x[1])[:L]:\n",
    "    X[:,next(id_col)] = np.squeeze(dt[2])    \n",
    "for dt in sorted(xgb_data, key =  lambda x: x[1])[:L]:\n",
    "    X[:,next(id_col)] = np.squeeze(dt[2])"
   ]
  },
  {
   "cell_type": "code",
   "execution_count": 5,
   "metadata": {},
   "outputs": [
    {
     "data": {
      "text/plain": [
       "array([[ 103.04624868,  102.02963133,  100.99092102],\n",
       "       [  94.29067739,   94.27512405,   93.31434631],\n",
       "       [ 112.50139923,  113.18660559,  111.1175766 ],\n",
       "       ..., \n",
       "       [  76.72775424,   76.96510044,   77.38584137],\n",
       "       [  93.82145784,   93.75591305,   92.98980713],\n",
       "       [  94.20093244,   95.40415694,   96.18862915]])"
      ]
     },
     "execution_count": 5,
     "metadata": {},
     "output_type": "execute_result"
    }
   ],
   "source": []
  },
  {
   "cell_type": "code",
   "execution_count": 152,
   "metadata": {
    "collapsed": true
   },
   "outputs": [],
   "source": [
    "def data():\n",
    "    print('generating data......')\n",
    "    # read datasets\n",
    "    X_train = pd.read_csv('../data/train.csv') ## Shape train: (4209, 378)\n",
    "    X_test = pd.read_csv('../data/test.csv') ## Shape test: (4209, 377)\n",
    "\n",
    "    # Shuffle data\n",
    "    #l = [x for x in range(4209)]\n",
    "    #np.random.shuffle(l)\n",
    "    #X_train = X_train.iloc[l]\n",
    "\n",
    "    y_train = X_train['y']\n",
    "    X_train = X_train.drop('y', axis = 1)\n",
    "\n",
    "    # process type\n",
    "    for c in X_train.columns:\n",
    "        if X_train[c].dtype == 'object':\n",
    "            lbl = LabelEncoder() \n",
    "            lbl.fit(list(X_train[c].values) + list(X_test[c].values)) \n",
    "            X_train[c] = lbl.transform(list(X_train[c].values))\n",
    "            X_test[c] = lbl.transform(list(X_test[c].values))\n",
    "\n",
    "    # shape        \n",
    "    print('Shape X_train:', X_train.shape)\n",
    "    print('Shape X_test:', X_test.shape)\n",
    "    return X_train, y_train, X_test"
   ]
  },
  {
   "cell_type": "code",
   "execution_count": 71,
   "metadata": {
    "collapsed": true
   },
   "outputs": [],
   "source": []
  },
  {
   "cell_type": "code",
   "execution_count": 153,
   "metadata": {},
   "outputs": [
    {
     "name": "stdout",
     "output_type": "stream",
     "text": [
      "generating data......\n",
      "Shape X_train: (4209, 377)\n",
      "Shape X_test: (4209, 377)\n"
     ]
    }
   ],
   "source": [
    "_,y,_ = data()"
   ]
  },
  {
   "cell_type": "code",
   "execution_count": 92,
   "metadata": {},
   "outputs": [
    {
     "name": "stdout",
     "output_type": "stream",
     "text": [
      "(4209, 15) (4209,)\n"
     ]
    }
   ],
   "source": [
    "print(X.shape,y.shape)\n",
    "\n",
    "ntrain, D = X.shape\n",
    "ntest = ntrain\n",
    "NFOLDS = 4\n",
    "kf = KFold(ntrain, n_folds=NFOLDS, shuffle=True, random_state=SEED)"
   ]
  },
  {
   "cell_type": "code",
   "execution_count": 95,
   "metadata": {
    "collapsed": true
   },
   "outputs": [],
   "source": [
    "\n",
    "class SklearnWrapper(object):\n",
    "    def __init__(self, clf, seed=0, params=None):\n",
    "        params['random_state'] = seed\n",
    "        self.clf = clf(**params)\n",
    "\n",
    "    def train(self, x_train, y_train):\n",
    "        self.clf.fit(x_train, y_train)\n",
    "\n",
    "    def predict(self, x):\n",
    "        return self.clf.predict(x)\n",
    "    \n",
    "\n",
    "def get_oof(clf,x_train,y_train):\n",
    "    oof_train = np.zeros((ntrain,))\n",
    "\n",
    "    for i, (train_index, test_index) in enumerate(kf):\n",
    "        x_tr = x_train[train_index]\n",
    "        y_tr = y_train[train_index]\n",
    "        x_te = x_train[test_index]\n",
    "        clf.train(x_tr, y_tr)\n",
    "        oof_train[test_index] = clf.predict(x_te)\n",
    "    return oof_train.reshape(-1, 1)"
   ]
  },
  {
   "cell_type": "code",
   "execution_count": 119,
   "metadata": {
    "collapsed": true
   },
   "outputs": [],
   "source": [
    "def turing(clf,N,name):\n",
    "    best_err = 100000000\n",
    "    data = []\n",
    "    for _ in range(N):\n",
    "        n_estimators = int(np.random.uniform(1,5))\n",
    "        max_features = np.random.uniform(.3,1)\n",
    "        max_depth = int(np.random.uniform(1,4))\n",
    "        min_samples_leaf = int(np.random.uniform(1,4))\n",
    "        params = {\n",
    "            'n_jobs': 8,\n",
    "            'n_estimators': n_estimators,\n",
    "            'max_features': max_features,\n",
    "            'max_depth': max_depth,\n",
    "            'min_samples_leaf': min_samples_leaf,\n",
    "        }\n",
    "        model = SklearnWrapper(clf=clf, seed=SEED, params=params)\n",
    "        oof_train = get_oof(model,X,y)\n",
    "        err = mean_squared_error(y, oof_train)\n",
    "        if best_err > err:\n",
    "            best_err = err\n",
    "            best_para = params\n",
    "        print(err,best_err, params)\n",
    "        data += [(params,err,oof_train)]\n",
    "\n",
    "    pickle.dump(data,open(\"{}.p\".format(name),'wb'))    "
   ]
  },
  {
   "cell_type": "code",
   "execution_count": 120,
   "metadata": {},
   "outputs": [
    {
     "name": "stdout",
     "output_type": "stream",
     "text": [
      "160.713749202 160.713749202 {'n_jobs': 8, 'n_estimators': 2, 'max_features': 0.7609474949924904, 'max_depth': 2, 'min_samples_leaf': 1, 'random_state': 0}\n",
      "161.025558534 160.713749202 {'n_jobs': 8, 'n_estimators': 1, 'max_features': 0.46777239047970487, 'max_depth': 2, 'min_samples_leaf': 1, 'random_state': 0}\n",
      "161.054009083 160.713749202 {'n_jobs': 8, 'n_estimators': 1, 'max_features': 0.9315722168678309, 'max_depth': 3, 'min_samples_leaf': 3, 'random_state': 0}\n",
      "160.840286741 160.713749202 {'n_jobs': 8, 'n_estimators': 3, 'max_features': 0.8792262513195204, 'max_depth': 1, 'min_samples_leaf': 1, 'random_state': 0}\n",
      "161.032906289 160.713749202 {'n_jobs': 8, 'n_estimators': 3, 'max_features': 0.8305348515374193, 'max_depth': 3, 'min_samples_leaf': 3, 'random_state': 0}\n",
      "160.818734901 160.713749202 {'n_jobs': 8, 'n_estimators': 3, 'max_features': 0.9062840305129642, 'max_depth': 2, 'min_samples_leaf': 2, 'random_state': 0}\n",
      "160.885766209 160.713749202 {'n_jobs': 8, 'n_estimators': 1, 'max_features': 0.4732949210697418, 'max_depth': 1, 'min_samples_leaf': 2, 'random_state': 0}\n",
      "160.702675667 160.702675667 {'n_jobs': 8, 'n_estimators': 4, 'max_features': 0.4076309948378626, 'max_depth': 2, 'min_samples_leaf': 1, 'random_state': 0}\n",
      "161.055184127 160.702675667 {'n_jobs': 8, 'n_estimators': 2, 'max_features': 0.9559782732136279, 'max_depth': 3, 'min_samples_leaf': 2, 'random_state': 0}\n",
      "160.691151162 160.691151162 {'n_jobs': 8, 'n_estimators': 4, 'max_features': 0.9031080829816331, 'max_depth': 3, 'min_samples_leaf': 2, 'random_state': 0}\n",
      "160.725006408 160.691151162 {'n_jobs': 8, 'n_estimators': 4, 'max_features': 0.8859058763079704, 'max_depth': 1, 'min_samples_leaf': 2, 'random_state': 0}\n",
      "160.776264454 160.691151162 {'n_jobs': 8, 'n_estimators': 2, 'max_features': 0.6195197148123266, 'max_depth': 2, 'min_samples_leaf': 3, 'random_state': 0}\n",
      "161.030268878 160.691151162 {'n_jobs': 8, 'n_estimators': 2, 'max_features': 0.5596988392947317, 'max_depth': 3, 'min_samples_leaf': 2, 'random_state': 0}\n",
      "161.142034383 160.691151162 {'n_jobs': 8, 'n_estimators': 1, 'max_features': 0.5246624256382455, 'max_depth': 3, 'min_samples_leaf': 2, 'random_state': 0}\n",
      "161.202441209 160.691151162 {'n_jobs': 8, 'n_estimators': 1, 'max_features': 0.6618264547901755, 'max_depth': 3, 'min_samples_leaf': 1, 'random_state': 0}\n",
      "161.005031917 160.691151162 {'n_jobs': 8, 'n_estimators': 4, 'max_features': 0.8221895913667647, 'max_depth': 3, 'min_samples_leaf': 3, 'random_state': 0}\n",
      "160.775046974 160.691151162 {'n_jobs': 8, 'n_estimators': 4, 'max_features': 0.9814440838859777, 'max_depth': 1, 'min_samples_leaf': 1, 'random_state': 0}\n",
      "160.658960348 160.658960348 {'n_jobs': 8, 'n_estimators': 4, 'max_features': 0.869208861642603, 'max_depth': 3, 'min_samples_leaf': 3, 'random_state': 0}\n",
      "161.134822322 160.658960348 {'n_jobs': 8, 'n_estimators': 3, 'max_features': 0.8024896772217294, 'max_depth': 2, 'min_samples_leaf': 1, 'random_state': 0}\n",
      "160.732765947 160.658960348 {'n_jobs': 8, 'n_estimators': 4, 'max_features': 0.9844612482825761, 'max_depth': 1, 'min_samples_leaf': 3, 'random_state': 0}\n",
      "160.908329341 160.658960348 {'n_jobs': 8, 'n_estimators': 1, 'max_features': 0.9602068412464091, 'max_depth': 2, 'min_samples_leaf': 3, 'random_state': 0}\n",
      "160.707447922 160.658960348 {'n_jobs': 8, 'n_estimators': 2, 'max_features': 0.32683632773069393, 'max_depth': 1, 'min_samples_leaf': 1, 'random_state': 0}\n",
      "160.780943289 160.658960348 {'n_jobs': 8, 'n_estimators': 4, 'max_features': 0.944569312433619, 'max_depth': 2, 'min_samples_leaf': 2, 'random_state': 0}\n",
      "160.821526651 160.658960348 {'n_jobs': 8, 'n_estimators': 4, 'max_features': 0.47571533708818825, 'max_depth': 3, 'min_samples_leaf': 3, 'random_state': 0}\n",
      "160.823460833 160.658960348 {'n_jobs': 8, 'n_estimators': 3, 'max_features': 0.9066277801172531, 'max_depth': 3, 'min_samples_leaf': 1, 'random_state': 0}\n",
      "160.883372369 160.658960348 {'n_jobs': 8, 'n_estimators': 2, 'max_features': 0.8899673854694998, 'max_depth': 2, 'min_samples_leaf': 2, 'random_state': 0}\n",
      "161.06178078 160.658960348 {'n_jobs': 8, 'n_estimators': 2, 'max_features': 0.47643852440115203, 'max_depth': 3, 'min_samples_leaf': 3, 'random_state': 0}\n",
      "160.88828293 160.658960348 {'n_jobs': 8, 'n_estimators': 1, 'max_features': 0.6793612273072, 'max_depth': 1, 'min_samples_leaf': 3, 'random_state': 0}\n",
      "160.687485991 160.658960348 {'n_jobs': 8, 'n_estimators': 3, 'max_features': 0.6845768834803516, 'max_depth': 1, 'min_samples_leaf': 2, 'random_state': 0}\n",
      "160.88828293 160.658960348 {'n_jobs': 8, 'n_estimators': 1, 'max_features': 0.5946888021562247, 'max_depth': 1, 'min_samples_leaf': 2, 'random_state': 0}\n",
      "160.9881238 160.658960348 {'n_jobs': 8, 'n_estimators': 1, 'max_features': 0.6457786375931176, 'max_depth': 2, 'min_samples_leaf': 2, 'random_state': 0}\n",
      "160.7347673 160.658960348 {'n_jobs': 8, 'n_estimators': 2, 'max_features': 0.7560039295754467, 'max_depth': 1, 'min_samples_leaf': 2, 'random_state': 0}\n",
      "160.885766209 160.658960348 {'n_jobs': 8, 'n_estimators': 1, 'max_features': 0.5099696147705975, 'max_depth': 1, 'min_samples_leaf': 2, 'random_state': 0}\n",
      "161.153491695 160.658960348 {'n_jobs': 8, 'n_estimators': 1, 'max_features': 0.6061057937547816, 'max_depth': 3, 'min_samples_leaf': 3, 'random_state': 0}\n",
      "160.77326175 160.658960348 {'n_jobs': 8, 'n_estimators': 2, 'max_features': 0.7105184607428268, 'max_depth': 1, 'min_samples_leaf': 1, 'random_state': 0}\n",
      "160.835902749 160.658960348 {'n_jobs': 8, 'n_estimators': 2, 'max_features': 0.9240645767135931, 'max_depth': 2, 'min_samples_leaf': 3, 'random_state': 0}\n",
      "160.834319625 160.658960348 {'n_jobs': 8, 'n_estimators': 4, 'max_features': 0.349751426019538, 'max_depth': 3, 'min_samples_leaf': 3, 'random_state': 0}\n",
      "160.845659684 160.658960348 {'n_jobs': 8, 'n_estimators': 2, 'max_features': 0.9787932610089816, 'max_depth': 2, 'min_samples_leaf': 3, 'random_state': 0}\n",
      "160.981046692 160.658960348 {'n_jobs': 8, 'n_estimators': 1, 'max_features': 0.6370185591016072, 'max_depth': 2, 'min_samples_leaf': 3, 'random_state': 0}\n",
      "160.777260333 160.658960348 {'n_jobs': 8, 'n_estimators': 4, 'max_features': 0.7296615712639143, 'max_depth': 2, 'min_samples_leaf': 3, 'random_state': 0}\n"
     ]
    }
   ],
   "source": [
    "N = 40\n",
    "SEED = 0\n",
    "turing(ExtraTreesRegressor,N,'stacking')"
   ]
  },
  {
   "cell_type": "code",
   "execution_count": 114,
   "metadata": {},
   "outputs": [
    {
     "data": {
      "text/plain": [
       "252.9747323721036"
      ]
     },
     "execution_count": 114,
     "metadata": {},
     "output_type": "execute_result"
    }
   ],
   "source": [
    "mean_squared_error(y, np.mean(X, axis=1))"
   ]
  },
  {
   "cell_type": "code",
   "execution_count": 124,
   "metadata": {
    "collapsed": true
   },
   "outputs": [],
   "source": [
    "ET_para = sorted(pickle.load(open('stacking.p','rb')),key = lambda x: x[1])[0][0]"
   ]
  },
  {
   "cell_type": "code",
   "execution_count": 126,
   "metadata": {
    "collapsed": true
   },
   "outputs": [],
   "source": [
    "ET = SklearnWrapper(ExtraTreesRegressor,params=ET_para)"
   ]
  },
  {
   "cell_type": "code",
   "execution_count": 127,
   "metadata": {
    "collapsed": true
   },
   "outputs": [],
   "source": [
    "ET.train(X,y)"
   ]
  },
  {
   "cell_type": "code",
   "execution_count": 129,
   "metadata": {},
   "outputs": [
    {
     "data": {
      "text/plain": [
       "3996    108.82\n",
       "2722    108.54\n",
       "1285    111.58\n",
       "304      89.03\n",
       "3249     87.83\n",
       "65       84.15\n",
       "2423    117.14\n",
       "2944     99.26\n",
       "938     117.89\n",
       "1010    105.43\n",
       "1186    116.00\n",
       "1280     93.93\n",
       "1374     91.62\n",
       "1042     90.59\n",
       "3755     91.77\n",
       "3786    109.11\n",
       "2068    111.08\n",
       "2952     93.19\n",
       "8       108.67\n",
       "2111    107.11\n",
       "1739    105.79\n",
       "1270    106.09\n",
       "4063    115.88\n",
       "2050    112.07\n",
       "3233    116.65\n",
       "567      88.20\n",
       "999     110.24\n",
       "2039    124.64\n",
       "793      96.51\n",
       "2410    105.13\n",
       "         ...  \n",
       "2125     98.32\n",
       "1962    114.80\n",
       "2187     78.88\n",
       "992     101.33\n",
       "849     112.54\n",
       "1271    111.31\n",
       "1781     90.68\n",
       "4031     99.38\n",
       "354     115.50\n",
       "1486     91.53\n",
       "754     111.48\n",
       "3795    107.37\n",
       "1667    132.86\n",
       "1544    111.42\n",
       "19       90.81\n",
       "1817     99.99\n",
       "2146    109.10\n",
       "2573     97.28\n",
       "545      92.83\n",
       "663     105.87\n",
       "3498    109.13\n",
       "1776    105.56\n",
       "1301     76.18\n",
       "1527     91.07\n",
       "3120     92.13\n",
       "4083     89.60\n",
       "2693     94.85\n",
       "2333     92.76\n",
       "3427     89.28\n",
       "3750     98.85\n",
       "Name: y, Length: 4209, dtype: float64"
      ]
     },
     "execution_count": 129,
     "metadata": {},
     "output_type": "execute_result"
    }
   ],
   "source": [
    "y"
   ]
  },
  {
   "cell_type": "code",
   "execution_count": 140,
   "metadata": {},
   "outputs": [
    {
     "data": {
      "text/plain": [
       "251.4159135534282"
      ]
     },
     "execution_count": 140,
     "metadata": {},
     "output_type": "execute_result"
    }
   ],
   "source": [
    "mean_squared_error(X[:,1],y)"
   ]
  },
  {
   "cell_type": "code",
   "execution_count": 128,
   "metadata": {},
   "outputs": [
    {
     "data": {
      "text/plain": [
       "array([ 101.03319275,  100.68383471,  100.45419462, ...,  100.40399861,\n",
       "        101.03319275,  101.03319275])"
      ]
     },
     "execution_count": 128,
     "metadata": {},
     "output_type": "execute_result"
    }
   ],
   "source": [
    "ET.predict(X)"
   ]
  }
 ],
 "metadata": {
  "kernelspec": {
   "display_name": "Python 2",
   "language": "python",
   "name": "python2"
  },
  "language_info": {
   "codemirror_mode": {
    "name": "ipython",
    "version": 3
   },
   "file_extension": ".py",
   "mimetype": "text/x-python",
   "name": "python",
   "nbconvert_exporter": "python",
   "pygments_lexer": "ipython3",
   "version": "3.6.1"
  }
 },
 "nbformat": 4,
 "nbformat_minor": 2
}
