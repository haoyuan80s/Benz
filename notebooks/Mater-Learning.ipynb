{
 "cells": [
  {
   "cell_type": "code",
   "execution_count": 51,
   "metadata": {},
   "outputs": [],
   "source": [
    "import numpy as np\n",
    "import pandas as pd\n",
    "import xgboost as xgb\n",
    "import pickle\n",
    "from scipy.stats import randint as sp_randint\n",
    "from sklearn.preprocessing import LabelEncoder, OneHotEncoder\n",
    "from sklearn.cross_validation import KFold\n",
    "from sklearn.metrics import mean_squared_error, r2_score\n",
    "from sklearn.model_selection import cross_val_score, GridSearchCV, RandomizedSearchCV\n",
    "from sklearn.ensemble import ExtraTreesRegressor, RandomForestRegressor"
   ]
  },
  {
   "cell_type": "code",
   "execution_count": 46,
   "metadata": {
    "collapsed": true
   },
   "outputs": [],
   "source": [
    "def data():\n",
    "    print('generating data......')\n",
    "    # read datasets\n",
    "    X_train = pd.read_csv('../data/train.csv') ## Shape train: (4209, 378)\n",
    "    X_test = pd.read_csv('../data/test.csv') ## Shape test: (4209, 377)\n",
    "\n",
    "    # Shuffle data\n",
    "    l = [x for x in range(4209)]\n",
    "    np.random.shuffle(l)\n",
    "    X_train = X_train.iloc[l]\n",
    "\n",
    "    y_train = X_train['y']\n",
    "    X_train = X_train.drop('y', axis = 1)\n",
    "\n",
    "    # process type\n",
    "    for c in X_train.columns:\n",
    "        if X_train[c].dtype == 'object':\n",
    "            lbl = LabelEncoder() \n",
    "            lbl.fit(list(X_train[c].values) + list(X_test[c].values)) \n",
    "            X_train[c] = lbl.transform(list(X_train[c].values))\n",
    "            X_test[c] = lbl.transform(list(X_test[c].values))\n",
    "\n",
    "    # shape        \n",
    "    print('Shape X_train:', X_train.shape)\n",
    "    print('Shape X_test:', X_test.shape)\n",
    "    return X_train, y_train, X_test\n",
    "\n",
    "\n",
    "def turn():\n",
    "    boost = xgb.XGBRegressor()\n",
    "    print('trunning model.....')\n",
    "    parameters = {'learning_rate': [0.005],\n",
    "                  'gamma': [0,0.5],\n",
    "                  'max_depth': [4, 9],\n",
    "                  'min_child_weight': [1,5],\n",
    "                  \"subsample\": [0.6,1],\n",
    "                  'colsample_bytree': [0.6,1],\n",
    "                 }\n",
    "    reg = RandomizedSearchCV(boost, parameters, n_jobs=8, cv=3, verbose = 1)\n",
    "    reg.fit(X_train, y_train)\n",
    "    best_parameters, score, _ = max(reg.grid_scores_, key=lambda x: x[1])\n",
    "    print(score)\n",
    "    for param_name in sorted(best_parameters.keys()):\n",
    "        print(\"%s: %r\" % (param_name, best_parameters[param_name]))\n",
    "    pickle.dump( reg.best_params_, open(\"bestpara.p\", \"wb\" ))\n",
    "    return reg.best_params_"
   ]
  },
  {
   "cell_type": "code",
   "execution_count": 3,
   "metadata": {},
   "outputs": [
    {
     "name": "stdout",
     "output_type": "stream",
     "text": [
      "generating data......\n",
      "Shape X_train: (4209, 377)\n",
      "Shape X_test: (4209, 377)\n"
     ]
    }
   ],
   "source": [
    "X_train,y_train, X_test = data()"
   ]
  },
  {
   "cell_type": "code",
   "execution_count": 47,
   "metadata": {
    "collapsed": true
   },
   "outputs": [],
   "source": [
    "ID = 'ID'\n",
    "TARGET = 'y'\n",
    "NFOLDS = 4\n",
    "SEED = 0\n",
    "NROWS = None\n",
    "DATA_DIR = \"../data\"\n",
    "\n",
    "TRAIN_FILE = \"{0}/train.csv\".format(DATA_DIR)\n",
    "TEST_FILE = \"{0}/test.csv\".format(DATA_DIR)\n",
    "SUBMISSION_FILE = \"{0}/sample_submission.csv\".format(DATA_DIR)\n",
    "\n",
    "x_train = np.array(X_train)\n",
    "x_test = np.array(X_test)\n",
    "y_train = np.array(y_train)\n",
    "\n",
    "SEED = 0\n",
    "ntrain, D = X_train.shape\n",
    "ntest, _ = X_test.shape\n",
    "NFOLDS = 4\n",
    "\n",
    "kf = KFold(ntrain, n_folds=NFOLDS, shuffle=True, random_state=SEED)"
   ]
  },
  {
   "cell_type": "code",
   "execution_count": 48,
   "metadata": {},
   "outputs": [],
   "source": [
    "\n",
    "class SklearnWrapper(object):\n",
    "    def __init__(self, clf, seed=0, params=None):\n",
    "        params['random_state'] = seed\n",
    "        self.clf = clf(**params)\n",
    "\n",
    "    def train(self, x_train, y_train):\n",
    "        self.clf.fit(x_train, y_train)\n",
    "\n",
    "    def predict(self, x):\n",
    "        return self.clf.predict(x)\n",
    "\n",
    "\n",
    "class XgbWrapper(object):\n",
    "    def __init__(self, seed=0, params=None):\n",
    "        self.param = params\n",
    "        self.param['seed'] = seed\n",
    "        self.nrounds = params.pop('nrounds', 250)\n",
    "\n",
    "    def train(self, x_train, y_train):\n",
    "        dtrain = xgb.DMatrix(x_train, label=y_train)\n",
    "        self.gbdt = xgb.train(self.param, dtrain, self.nrounds)\n",
    "\n",
    "    def predict(self, x):\n",
    "        return self.gbdt.predict(xgb.DMatrix(x))\n",
    "    \n",
    "\n",
    "def get_oof(clf):\n",
    "    oof_train = np.zeros((ntrain,))\n",
    "    oof_test = np.zeros((ntest,))\n",
    "    oof_test_skf = np.empty((NFOLDS, ntest))\n",
    "\n",
    "    for i, (train_index, test_index) in enumerate(kf):\n",
    "        x_tr = x_train[train_index]\n",
    "        y_tr = y_train[train_index]\n",
    "        x_te = x_train[test_index]\n",
    "\n",
    "        clf.train(x_tr, y_tr)\n",
    "\n",
    "        oof_train[test_index] = clf.predict(x_te)\n",
    "        oof_test_skf[i, :] = clf.predict(x_test)\n",
    "\n",
    "    oof_test[:] = oof_test_skf.mean(axis=0)\n",
    "    print(\"get_oof, done!\")\n",
    "    return oof_train.reshape(-1, 1), oof_test.reshape(-1, 1)\n",
    "\n",
    "\n",
    "et_params = {\n",
    "    'n_jobs': 16,\n",
    "    'n_estimators': 100,\n",
    "    'max_features': 0.5,\n",
    "    'max_depth': 12,\n",
    "    'min_samples_leaf': 2,\n",
    "}\n",
    "\n",
    "rf_params = {\n",
    "    'n_jobs': 16,\n",
    "    'n_estimators': 100,\n",
    "    'max_features': 0.2,\n",
    "    'max_depth': 8,\n",
    "    'min_samples_leaf': 2,\n",
    "}\n",
    "\n",
    "xgb_params = {\n",
    "    'seed': 0,\n",
    "    'colsample_bytree': 0.7,\n",
    "    'silent': 1,\n",
    "    'subsample': 0.7,\n",
    "    'learning_rate': 0.075,\n",
    "    'objective': 'reg:linear',\n",
    "    'max_depth': 7,\n",
    "    'num_parallel_tree': 1,\n",
    "    'min_child_weight': 1,\n",
    "    'eval_metric': 'mae',\n",
    "    'nrounds': 300\n",
    "}\n",
    "\n"
   ]
  },
  {
   "cell_type": "code",
   "execution_count": 49,
   "metadata": {},
   "outputs": [
    {
     "name": "stdout",
     "output_type": "stream",
     "text": [
      "get_oof, done!\n",
      "get_oof, done!\n",
      "get_oof, done!\n"
     ]
    }
   ],
   "source": [
    "xg = XgbWrapper(seed=SEED, params=xgb_params)\n",
    "et = SklearnWrapper(clf=ExtraTreesRegressor, seed=SEED, params=et_params)\n",
    "rf = SklearnWrapper(clf=RandomForestRegressor, seed=SEED, params=rf_params)\n",
    "\n",
    "xg_oof_train, xg_oof_test = get_oof(xg)\n",
    "print(\"XG-CV: {}\".format(mean_squared_error(y_train, xg_oof_train)))\n",
    "et_oof_train, et_oof_test = get_oof(et)\n",
    "print(\"ET-CV: {}\".format(mean_squared_error(y_train, et_oof_train)))\n",
    "rf_oof_train, rf_oof_test = get_oof(rf)\n",
    "print(\"RF-CV: {}\".format(mean_squared_error(y_train, rf_oof_train)))"
   ]
  },
  {
   "cell_type": "code",
   "execution_count": 30,
   "metadata": {},
   "outputs": [
    {
     "name": "stdout",
     "output_type": "stream",
     "text": [
      "(4209, 3),(4209, 3)\n"
     ]
    }
   ],
   "source": [
    "x_train = np.concatenate((xg_oof_train, et_oof_train, rf_oof_train), axis=1)\n",
    "x_test = np.concatenate((xg_oof_test, et_oof_test, rf_oof_test), axis=1)\n",
    "print(\"{},{}\".format(x_train.shape, x_test.shape))"
   ]
  },
  {
   "cell_type": "code",
   "execution_count": 40,
   "metadata": {},
   "outputs": [
    {
     "name": "stdout",
     "output_type": "stream",
     "text": [
      "[0]\ttrain-rmse:99.9674+0.104366\ttest-rmse:99.9671+0.31353\n",
      "[10]\ttrain-rmse:90.4999+0.0943104\ttest-rmse:90.5017+0.305257\n",
      "[20]\ttrain-rmse:81.9389+0.0860536\ttest-rmse:81.9427+0.299534\n",
      "[30]\ttrain-rmse:74.2075+0.080076\ttest-rmse:74.2131+0.295443\n",
      "[40]\ttrain-rmse:67.2219+0.0710553\ttest-rmse:67.2297+0.295415\n",
      "[50]\ttrain-rmse:60.912+0.0650814\ttest-rmse:60.9213+0.297923\n",
      "[60]\ttrain-rmse:55.2149+0.0578099\ttest-rmse:55.2262+0.302622\n",
      "[70]\ttrain-rmse:50.0726+0.0560183\ttest-rmse:50.085+0.30253\n",
      "[80]\ttrain-rmse:45.4337+0.0569913\ttest-rmse:45.4458+0.306753\n",
      "[90]\ttrain-rmse:41.2551+0.0538111\ttest-rmse:41.2684+0.311885\n",
      "[100]\ttrain-rmse:37.49+0.0529563\ttest-rmse:37.5038+0.315789\n",
      "[110]\ttrain-rmse:34.1014+0.0564855\ttest-rmse:34.1167+0.316658\n",
      "[120]\ttrain-rmse:31.0496+0.0564578\ttest-rmse:31.0684+0.323856\n",
      "[130]\ttrain-rmse:28.3088+0.0574787\ttest-rmse:28.3321+0.331707\n",
      "[140]\ttrain-rmse:25.8519+0.0600282\ttest-rmse:25.88+0.337639\n",
      "[150]\ttrain-rmse:23.6505+0.0613297\ttest-rmse:23.6862+0.339524\n",
      "[160]\ttrain-rmse:21.6793+0.0613546\ttest-rmse:21.7282+0.341807\n",
      "[170]\ttrain-rmse:19.9193+0.061786\ttest-rmse:19.9818+0.348066\n",
      "[180]\ttrain-rmse:18.3515+0.0631987\ttest-rmse:18.4313+0.351774\n",
      "[190]\ttrain-rmse:16.9604+0.0587709\ttest-rmse:17.0576+0.361789\n",
      "[200]\ttrain-rmse:15.7279+0.0626272\ttest-rmse:15.844+0.367244\n",
      "[210]\ttrain-rmse:14.6411+0.0689637\ttest-rmse:14.7794+0.370871\n",
      "[220]\ttrain-rmse:13.6815+0.0708047\ttest-rmse:13.842+0.375926\n",
      "[230]\ttrain-rmse:12.8419+0.069122\ttest-rmse:13.0295+0.383837\n",
      "[240]\ttrain-rmse:12.1069+0.0706626\ttest-rmse:12.318+0.389412\n",
      "[250]\ttrain-rmse:11.4681+0.0690192\ttest-rmse:11.7061+0.399696\n",
      "[260]\ttrain-rmse:10.9162+0.070381\ttest-rmse:11.1793+0.409017\n",
      "[270]\ttrain-rmse:10.4376+0.0722314\ttest-rmse:10.7286+0.41655\n",
      "[280]\ttrain-rmse:10.0275+0.0736786\ttest-rmse:10.3472+0.422434\n",
      "[290]\ttrain-rmse:9.67628+0.0745595\ttest-rmse:10.0222+0.428658\n",
      "[300]\ttrain-rmse:9.37597+0.0760643\ttest-rmse:9.74774+0.433891\n",
      "[310]\ttrain-rmse:9.11978+0.0761985\ttest-rmse:9.5166+0.439981\n",
      "[320]\ttrain-rmse:8.90176+0.076371\ttest-rmse:9.32305+0.446531\n",
      "[330]\ttrain-rmse:8.71613+0.0753828\ttest-rmse:9.1618+0.454861\n",
      "[340]\ttrain-rmse:8.56186+0.0744385\ttest-rmse:9.03036+0.460288\n",
      "[350]\ttrain-rmse:8.43081+0.0750685\ttest-rmse:8.92013+0.465462\n",
      "[360]\ttrain-rmse:8.31575+0.0790643\ttest-rmse:8.82788+0.467952\n",
      "[370]\ttrain-rmse:8.2191+0.0801916\ttest-rmse:8.75303+0.471372\n",
      "[380]\ttrain-rmse:8.13619+0.0770575\ttest-rmse:8.6898+0.476264\n",
      "[390]\ttrain-rmse:8.0649+0.0765\ttest-rmse:8.6393+0.48003\n",
      "[400]\ttrain-rmse:8.0049+0.0754159\ttest-rmse:8.5956+0.482014\n",
      "[410]\ttrain-rmse:7.95342+0.0731466\ttest-rmse:8.56155+0.485549\n",
      "[420]\ttrain-rmse:7.90563+0.0699034\ttest-rmse:8.53422+0.489031\n",
      "[430]\ttrain-rmse:7.86613+0.0689247\ttest-rmse:8.5109+0.491458\n",
      "[440]\ttrain-rmse:7.82906+0.0682927\ttest-rmse:8.49241+0.492134\n",
      "[450]\ttrain-rmse:7.7954+0.0666622\ttest-rmse:8.47662+0.493974\n",
      "[460]\ttrain-rmse:7.76744+0.0670548\ttest-rmse:8.46438+0.495214\n",
      "[470]\ttrain-rmse:7.74135+0.0654374\ttest-rmse:8.4552+0.495522\n",
      "[480]\ttrain-rmse:7.71844+0.0642717\ttest-rmse:8.44784+0.496949\n",
      "[490]\ttrain-rmse:7.69704+0.0670971\ttest-rmse:8.44145+0.499693\n",
      "[500]\ttrain-rmse:7.67603+0.0661286\ttest-rmse:8.4363+0.501409\n",
      "[510]\ttrain-rmse:7.658+0.064188\ttest-rmse:8.43261+0.502375\n",
      "[520]\ttrain-rmse:7.64154+0.0638571\ttest-rmse:8.42869+0.503487\n",
      "[530]\ttrain-rmse:7.62525+0.0639643\ttest-rmse:8.42622+0.503128\n",
      "[540]\ttrain-rmse:7.60869+0.0669962\ttest-rmse:8.42534+0.505035\n",
      "[550]\ttrain-rmse:7.59444+0.0691195\ttest-rmse:8.42454+0.506906\n",
      "[560]\ttrain-rmse:7.57806+0.0671565\ttest-rmse:8.42386+0.507694\n",
      "[570]\ttrain-rmse:7.56354+0.0668017\ttest-rmse:8.42317+0.508259\n",
      "[580]\ttrain-rmse:7.54815+0.0692414\ttest-rmse:8.42219+0.510058\n",
      "[590]\ttrain-rmse:7.53333+0.068614\ttest-rmse:8.42286+0.510833\n",
      "[600]\ttrain-rmse:7.52074+0.0669151\ttest-rmse:8.42306+0.511359\n",
      "Ensemble-CV: 8.42184575+0.5095045484028459\n"
     ]
    }
   ],
   "source": [
    "dtrain = xgb.DMatrix(x_train, label=y_train)\n",
    "dtest = xgb.DMatrix(x_test)\n",
    "xgb_params = {\n",
    "    'seed': 0,\n",
    "    'colsample_bytree': 0.8,\n",
    "    'silent': 1,\n",
    "    'subsample': 0.6,\n",
    "    'learning_rate': 0.01,\n",
    "    'objective': 'reg:linear',\n",
    "    'max_depth': 4,\n",
    "    'num_parallel_tree': 1,\n",
    "    'min_child_weight': 1,\n",
    "    'eval_metric': 'rmse',\n",
    "}\n",
    "\n",
    "res = xgb.cv(xgb_params, dtrain, num_boost_round=700, nfold=4, seed=SEED, stratified=False,\n",
    "             early_stopping_rounds=25, verbose_eval=10, show_stdv=True)\n",
    "\n",
    "best_nrounds = res.shape[0] - 1\n",
    "cv_mean = res.iloc[-1, 0]\n",
    "cv_std = res.iloc[-1, 1]\n",
    "\n",
    "print('Ensemble-CV: {0}+{1}'.format(cv_mean, cv_std))"
   ]
  },
  {
   "cell_type": "code",
   "execution_count": 33,
   "metadata": {
    "collapsed": true
   },
   "outputs": [],
   "source": [
    "gbdt = xgb.train(xgb_params, dtrain, best_nrounds)"
   ]
  },
  {
   "cell_type": "code",
   "execution_count": 37,
   "metadata": {},
   "outputs": [],
   "source": [
    "submission = pd.read_csv(SUBMISSION_FILE)\n",
    "submission.iloc[:, 1] = gbdt.predict(dtest)\n",
    "submission.to_csv('xgstacker_starter.sub.csv', index=None)"
   ]
  }
 ],
 "metadata": {
  "kernelspec": {
   "display_name": "Python 2",
   "language": "python",
   "name": "python2"
  },
  "language_info": {
   "codemirror_mode": {
    "name": "ipython",
    "version": 3
   },
   "file_extension": ".py",
   "mimetype": "text/x-python",
   "name": "python",
   "nbconvert_exporter": "python",
   "pygments_lexer": "ipython3",
   "version": "3.6.1"
  }
 },
 "nbformat": 4,
 "nbformat_minor": 2
}
